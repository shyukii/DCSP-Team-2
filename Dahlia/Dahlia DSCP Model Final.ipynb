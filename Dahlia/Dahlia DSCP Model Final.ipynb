{
 "cells": [
  {
   "cell_type": "code",
   "execution_count": 2,
   "id": "47061a7b",
   "metadata": {},
   "outputs": [],
   "source": [
    "import pandas as pd\n",
    "import numpy as np\n",
    "import matplotlib.pyplot as plt\n",
    "import seaborn as sns\n",
    "from sklearn.linear_model import LinearRegression\n",
    "from sklearn.model_selection import train_test_split\n",
    "from sklearn.metrics import mean_absolute_error, r2_score\n",
    "from sklearn.ensemble import RandomForestRegressor\n",
    "import re"
   ]
  },
  {
   "cell_type": "markdown",
   "id": "f0444f68",
   "metadata": {},
   "source": [
    "### Load Dataset"
   ]
  },
  {
   "cell_type": "code",
   "execution_count": 3,
   "id": "c0aa1c16",
   "metadata": {},
   "outputs": [],
   "source": [
    "df = pd.read_csv(\"df_combined2.csv\")\n",
    "df['date'] = pd.to_datetime(df['date'])\n",
    "df['date_of_feed'] = pd.to_datetime(df['date_of_feed'])\n",
    "df['browns_amount'] = df['browns_amount'] * 1000 \n",
    "df['greens_amount'] = df['greens_amount'] * 1000"
   ]
  },
  {
   "cell_type": "markdown",
   "id": "5cede25f",
   "metadata": {},
   "source": [
    "### Reassign NPK Optimals "
   ]
  },
  {
   "cell_type": "code",
   "execution_count": 3,
   "id": "f3b7ff01",
   "metadata": {},
   "outputs": [],
   "source": [
    "# Clean and split NPK values\n",
    "df[['N', 'P', 'K']] = df['NPK Ratio'].str.split(':', expand=True).astype(float)\n",
    "\n",
    "# Define adjusted classification function with ±3 threshold flexibility\n",
    "def classify_adjusted_npk(n, p, k):\n",
    "    if n == 0 or p == 0 or k == 0:\n",
    "        return 'Unknown'\n",
    "    \n",
    "    # Simple ratio normalization\n",
    "    p_ratio = round(p / n, 1)\n",
    "    k_ratio = round(k / n, 1)\n",
    "\n",
    "    # Adjusted range thresholds (±3 flexibility)\n",
    "    if 1.4 <= p_ratio <= 2.6 and 1.4 <= k_ratio <= 2.6:\n",
    "        return 'Optimal (Long Bean)'\n",
    "    elif 0.9 <= p_ratio <= 2.1 and 0.9 <= k_ratio <= 2.1:\n",
    "        return 'Balanced (Lady Finger)'\n",
    "    elif 0.4 <= p_ratio <= 1.6 and 0.4 <= k_ratio <= 1.6:\n",
    "        return 'Balanced (General)'\n",
    "    elif 0.1 <= p_ratio <= 1.1 and 0.1 <= k_ratio <= 1.1:\n",
    "        return 'High Nitrogen (Spinach Leaning)'\n",
    "    else:\n",
    "        return 'Unbalanced'\n",
    "\n",
    "df['NPK - Plant Readiness'] = df.apply(lambda row: classify_adjusted_npk(row['N'], row['P'], row['K']), axis=1)"
   ]
  },
  {
   "cell_type": "markdown",
   "id": "db23c888",
   "metadata": {},
   "source": [
    "### Target Moisture from Training dataset and Crop requirements"
   ]
  },
  {
   "cell_type": "markdown",
   "id": "8a655daf",
   "metadata": {},
   "source": [
    "Using Target Moisture from Training dataset as values from our own sensors are too extreme"
   ]
  },
  {
   "cell_type": "code",
   "execution_count": 6,
   "id": "cf016c84",
   "metadata": {},
   "outputs": [],
   "source": [
    "def classify_cn_ratio(cn_ratio_str):\n",
    "    \"\"\"Classify C:N ratio based on the new ranges for different plant types\"\"\"\n",
    "    try:\n",
    "        cn_value = int(str(cn_ratio_str).split(':')[0])\n",
    "    except:\n",
    "        return 'Unknown'\n",
    "    \n",
    "    ranges = {\n",
    "        'Leafy Greens': (10, 15),\n",
    "        'Fruit Veggies': (15, 20),\n",
    "        'Root Vegetables': (15, 25),\n",
    "        'Herbs': (12, 20),\n",
    "        'Flowering Plants': (15, 25),\n",
    "        'Woody Plants': (20, 30)\n",
    "    }\n",
    "    \n",
    "    status = []\n",
    "    for plant_type, (min_val, max_val) in ranges.items():\n",
    "        if min_val <= cn_value <= max_val:\n",
    "            status.append(plant_type)\n",
    "    \n",
    "    if not status:\n",
    "        return 'Unbalanced'\n",
    "    elif len(status) == 1:\n",
    "        return f'Optimal for {status[0]}'\n",
    "    else:\n",
    "        return f'Optimal for multiple: {\", \".join(status)}'\n",
    "\n",
    "# Update the C_N_Status column with the new classification\n",
    "df['C_N_Status'] = df['C_N_Ratio'].apply(classify_cn_ratio)"
   ]
  },
  {
   "cell_type": "code",
   "execution_count": 12,
   "id": "0ae87570",
   "metadata": {},
   "outputs": [],
   "source": [
    "crop_requirements = {\n",
    "    \"Leafy Greens\": {\n",
    "        \"moisture\": 57.75,\n",
    "        \"cn_min\": 10,\n",
    "        \"cn_max\": 15\n",
    "    },\n",
    "    \"Fruit Veggies\": {\n",
    "        \"moisture\": 41.3, \n",
    "        \"cn_min\": 15,\n",
    "        \"cn_max\": 20\n",
    "    },\n",
    "    \"Root Vegetables\": {\n",
    "        \"moisture\": 40.76,\n",
    "        \"cn_min\": 15,\n",
    "        \"cn_max\": 25\n",
    "    },\n",
    "    \"Herbs\": {\n",
    "        \"moisture\": 48.28,  \n",
    "        \"cn_min\": 12,\n",
    "        \"cn_max\": 20\n",
    "    },\n",
    "    \"Flowering Plants\": {\n",
    "        \"moisture\": 40.76,  \n",
    "        \"cn_min\": 15,\n",
    "        \"cn_max\": 25\n",
    "    },\n",
    "    \"Woody Plants\": {\n",
    "        \"moisture\": 39.67,  \n",
    "        \"cn_min\": 20,\n",
    "        \"cn_max\": 30\n",
    "    }\n",
    "}"
   ]
  },
  {
   "cell_type": "code",
   "execution_count": 13,
   "id": "caec6093",
   "metadata": {},
   "outputs": [],
   "source": [
    "def get_cn_value(cn_ratio_str):\n",
    "    \"\"\"Extract the numeric value from C:N ratio string\"\"\"\n",
    "    try:\n",
    "        return int(str(cn_ratio_str).split(':')[0])\n",
    "    except:\n",
    "        return None"
   ]
  },
  {
   "cell_type": "code",
   "execution_count": 14,
   "id": "0cd94e19",
   "metadata": {},
   "outputs": [],
   "source": [
    "def is_optimal_for_crop(cn_ratio_str, target_crop):\n",
    "    \"\"\"Check if C:N ratio is optimal for the target crop\"\"\"\n",
    "    cn_value = get_cn_value(cn_ratio_str)\n",
    "    if cn_value is None:\n",
    "        return False\n",
    "    requirements = crop_requirements.get(target_crop)\n",
    "    if not requirements:\n",
    "        return False\n",
    "    return requirements['cn_min'] <= cn_value <= requirements['cn_max']"
   ]
  },
  {
   "cell_type": "markdown",
   "id": "506b490f",
   "metadata": {},
   "source": [
    "### Recommended Green:Brown ratio of feed to be composted"
   ]
  },
  {
   "cell_type": "code",
   "execution_count": 15,
   "id": "fc3c875e",
   "metadata": {},
   "outputs": [],
   "source": [
    "def simulate_feed_from_optimal_event(greens_input_grams, target_crop_input):\n",
    "    \"\"\"Generate compost feed recommendation based on optimal events\"\"\"\n",
    "    # Normalize crop name\n",
    "    crop_input_normalized = target_crop_input.strip().lower().replace(\" \", \"\").replace(\"-\", \"\")\n",
    "    crop_options = {\n",
    "        \"leafygreens\": \"Leafy Greens\",\n",
    "        \"fruitveggies\": \"Fruit Veggies\",\n",
    "        \"rootvegetables\": \"Root Vegetables\",\n",
    "        \"herbs\": \"Herbs\",\n",
    "        \"floweringplants\": \"Flowering Plants\",\n",
    "        \"woodyplants\": \"Woody Plants\"\n",
    "    }\n",
    "\n",
    "    if crop_input_normalized not in crop_options:\n",
    "        return {\"message\": f\"Invalid crop type: {target_crop_input}. Choose one from: {list(crop_options.values())}\"}\n",
    "\n",
    "    target_crop = crop_options[crop_input_normalized]\n",
    "    target_moisture_pct = crop_requirements[target_crop]['moisture']\n",
    "\n",
    "    # Find feeds that resulted in optimal C:N for this crop\n",
    "    optimal_feeds = []\n",
    "    \n",
    "    # Group by device and find sequences of feed -> optimal state\n",
    "    for device, device_data in df.groupby('devicename'):\n",
    "        # Sort by date\n",
    "        device_data = device_data.sort_values('date')\n",
    "        \n",
    "        # Find all optimal events for this crop\n",
    "        optimal_events = device_data[\n",
    "            device_data['C_N_Status'].notna() & \n",
    "            device_data['C_N_Status'].str.contains(\"Optimal\", case=False) &\n",
    "            device_data.apply(lambda row: is_optimal_for_crop(row['C_N_Ratio'], target_crop), axis=1)\n",
    "        ].sort_values('date')\n",
    "        \n",
    "        for _, optimal_row in optimal_events.iterrows():\n",
    "            # Find the feed before this optimal event\n",
    "            feed_before = device_data[\n",
    "                (device_data['date_of_feed'].notna()) &\n",
    "                (device_data['date_of_feed'] <= optimal_row['date']) &\n",
    "                (device_data['greens_amount'].notna()) &\n",
    "                (device_data['browns_amount'].notna())\n",
    "            ].sort_values('date_of_feed', ascending=False)\n",
    "            \n",
    "            if not feed_before.empty:\n",
    "                feed_row = feed_before.iloc[0]\n",
    "                days_to_optimal = (optimal_row['date'] - feed_row['date_of_feed']).days\n",
    "                optimal_feeds.append({\n",
    "                    'feed': feed_row,\n",
    "                    'optimal': optimal_row,\n",
    "                    'days_to_optimal': days_to_optimal,\n",
    "                    'device': device\n",
    "                })\n",
    "    \n",
    "    if not optimal_feeds:\n",
    "        return {\"message\": f\"No optimal compost recipes found for {target_crop}.\"}\n",
    "\n",
    "    # Select the feed that took the median time to reach optimal\n",
    "    optimal_feeds.sort(key=lambda x: x['days_to_optimal'])\n",
    "    selected = optimal_feeds[len(optimal_feeds) // 2]  # Median\n",
    "    \n",
    "    feed_row = selected['feed']\n",
    "    optimal_row = selected['optimal']\n",
    "    \n",
    "    # Calculate browns amount based on historical ratio\n",
    "    try:\n",
    "        brown_per_green = feed_row['browns_amount'] / feed_row['greens_amount']\n",
    "        browns_amount = greens_input_grams * brown_per_green\n",
    "        \n",
    "        # Calculate water needed to reach target moisture\n",
    "        water_target = (target_moisture_pct / 100) * (greens_input_grams + browns_amount) / (1 - target_moisture_pct / 100)\n",
    "        \n",
    "        return {\n",
    "            \"Greens (g)\": round(greens_input_grams, 2),\n",
    "            \"Browns (g)\": round(browns_amount, 2),\n",
    "            \"Water (g)\": round(water_target, 2),\n",
    "            \"Target Crop\": target_crop,\n",
    "            \"Resulting C:N Ratio\": optimal_row['C_N_Ratio'],\n",
    "            \"Days to Optimal\": selected['days_to_optimal'],\n",
    "            \"Based on Device\": selected['device'],\n",
    "            \"Based on Feed Date\": feed_row['date_of_feed'].strftime('%Y-%m-%d'),\n",
    "            \"Observed Optimal Date\": optimal_row['date'].strftime('%Y-%m-%d'),\n",
    "            \"Moisture Target %\": target_moisture_pct\n",
    "        }\n",
    "    except Exception as e:\n",
    "        return {\"message\": f\"Error calculating recommendation: {str(e)}\"}"
   ]
  },
  {
   "cell_type": "markdown",
   "id": "6b44a374",
   "metadata": {},
   "source": [
    "### User input and output recommendation for feed"
   ]
  },
  {
   "cell_type": "code",
   "execution_count": 17,
   "id": "55d20448",
   "metadata": {},
   "outputs": [
    {
     "name": "stdout",
     "output_type": "stream",
     "text": [
      "Choose crop type: Leafy Greens | Fruit Veggies | Root Vegetables | Herbs | Flowering Plants | Woody Plants\n",
      "Enter your crop type: herbs\n",
      "Enter the amount of greens you have (in grams): 30\n",
      "\n",
      "Recommendation:\n",
      "Greens (g): 30.0\n",
      "Browns (g): 54.0\n",
      "Water (g): 78.41\n",
      "Target Crop: Herbs\n",
      "Resulting C:N Ratio: 16:1\n",
      "Days to Optimal: 8\n",
      "Based on Device: NP002\n",
      "Based on Feed Date: 2025-06-30\n",
      "Observed Optimal Date: 2025-07-08\n",
      "Moisture Target %: 48.28\n"
     ]
    }
   ],
   "source": [
    "if __name__ == \"__main__\":\n",
    "    print(\"Choose crop type: Leafy Greens | Fruit Veggies | Root Vegetables | Herbs | Flowering Plants | Woody Plants\")\n",
    "    crop_type = input(\"Enter your crop type: \")\n",
    "    \n",
    "    try:\n",
    "        greens_input = float(input(\"Enter the amount of greens you have (in grams): \"))\n",
    "        if greens_input <= 0:\n",
    "            raise ValueError(\"Greens amount must be positive\")\n",
    "            \n",
    "        result = simulate_feed_from_optimal_event(greens_input, crop_type)\n",
    "        \n",
    "        print(\"\\nRecommendation:\")\n",
    "        if 'message' in result:\n",
    "            print(result['message'])\n",
    "        else:\n",
    "            for k, v in result.items():\n",
    "                print(f\"{k}: {v}\")\n",
    "    except ValueError as e:\n",
    "        print(f\"\\nError: {str(e)}\")"
   ]
  }
 ],
 "metadata": {
  "kernelspec": {
   "display_name": "Python 3 (ipykernel)",
   "language": "python",
   "name": "python3"
  },
  "language_info": {
   "codemirror_mode": {
    "name": "ipython",
    "version": 3
   },
   "file_extension": ".py",
   "mimetype": "text/x-python",
   "name": "python",
   "nbconvert_exporter": "python",
   "pygments_lexer": "ipython3",
   "version": "3.11.5"
  }
 },
 "nbformat": 4,
 "nbformat_minor": 5
}

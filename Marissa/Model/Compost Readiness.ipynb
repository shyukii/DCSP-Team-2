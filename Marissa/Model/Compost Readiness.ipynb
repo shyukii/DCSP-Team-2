{
 "cells": [
  {
   "cell_type": "markdown",
   "id": "e07e142e",
   "metadata": {},
   "source": [
    "#### Model Objective: \n",
    "*See what is the total browns and greens - to see how much compost they are making and how long it will take to break down, and hence, be able to return the waiting duration (aka optimal extraction timing)*\n",
    "\n",
    "Task:\n",
    "1) Predict time taken for NPK level to reach optimal level\n",
    "\n",
    "------------------------------------------------------------------------\n",
    "\n",
    "#### Done so far: \n",
    "- Prediction of NPK level\n",
    "\n",
    "1) \n",
    "------------------------------------------------------------------------\n",
    "\n",
    "#### What has to be done:\n",
    "\n"
   ]
  },
  {
   "cell_type": "code",
   "execution_count": null,
   "id": "c5aed0d2",
   "metadata": {},
   "outputs": [],
   "source": []
  }
 ],
 "metadata": {
  "language_info": {
   "name": "python"
  }
 },
 "nbformat": 4,
 "nbformat_minor": 5
}
